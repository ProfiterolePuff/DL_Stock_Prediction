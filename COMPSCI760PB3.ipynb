{
 "cells": [
  {
   "cell_type": "markdown",
   "id": "09a7e4f9-bf78-4837-bfed-83c0bf3c8154",
   "metadata": {},
   "source": [
    "# COMPSCI 760 PB3 "
   ]
  },
  {
   "cell_type": "code",
   "execution_count": 1,
   "id": "1178bc41-f4f5-4310-8dce-e05372e159af",
   "metadata": {},
   "outputs": [],
   "source": [
    "import numpy as np\n",
    "import pandas as pd\n",
    "import glob\n",
    "from sklearn.preprocessing import MinMaxScaler"
   ]
  },
  {
   "cell_type": "markdown",
   "id": "dab92e9f-57e1-4846-8a55-5607a7ed3271",
   "metadata": {},
   "source": [
    "### Alter those 3 parameters to see the effect on the model"
   ]
  },
  {
   "cell_type": "code",
   "execution_count": 2,
   "id": "5839d0ee-750c-44b4-a323-0319930333cd",
   "metadata": {},
   "outputs": [],
   "source": [
    "TRAINING_LENGTH = 5 #MLP\n",
    "# 5 weeks for training and predict the next week\n",
    "\n",
    "TARGET_STOCK_ID = 2 # 0 indicates 'ADA'\n",
    "# The Stock ID for model prediction range from 0 to 36\n",
    "# stock name list : ['ADA', 'BNB', 'BTC', 'DOGE', 'EOS', 'ETC', 'ETH', 'LTC', 'XRP', 'AAPL', 'AMZN',\n",
    "#'ARKK', 'BAC', 'F', 'FB', 'GE', 'GOOGL', 'HD', 'JPM', 'MA', 'MSTR', 'PYPL', 'SQ', \n",
    "#'T', 'TSLA', 'UNH', 'V', 'VYGR', 'WFC', 'WMT', 'XOM', 'BZ=F', 'DX-Y.NYB', 'GC=F', \n",
    "#'^DJI', '^GSPC', '^TNX']\n",
    "\n",
    "READ_COLUMNS =  [\"Date\", \"Open\", \"High\", \"Low\", \"Close\"]\n",
    "# List of names for columns of data fed into the model\n",
    "# READ_COLUMNS = [\"Date\", \"Open\", \"High\", \"Low\", \"Close\", \"Volume\"]"
   ]
  },
  {
   "cell_type": "markdown",
   "id": "f9e4ac8f-28b0-4530-8388-a545484921b2",
   "metadata": {},
   "source": [
    "## Import Data"
   ]
  },
  {
   "cell_type": "code",
   "execution_count": 3,
   "id": "1a04b661-998f-4c47-bac5-f37a4c764a36",
   "metadata": {},
   "outputs": [],
   "source": [
    "#Read in all Data\n",
    "def read_data(file_paths, read_cols):\n",
    "    all_data = pd.DataFrame()\n",
    "    file_index = 0\n",
    "    names = []\n",
    "    \n",
    "    for files in file_paths:\n",
    "        for f in files:\n",
    "            if file_index == 0:\n",
    "                csv = pd.read_csv(f, usecols = read_cols)\n",
    "                names.append(str(f)[17:-4])\n",
    "                for col in read_cols[1:]:\n",
    "                    csv.rename(columns={col : col + \" \" + str(f)[17:-4]}, inplace=True)\n",
    "                all_data = all_data.append(csv)\n",
    "            else:\n",
    "                csv = pd.read_csv(f, usecols = read_cols)\n",
    "                if file_paths.index(files) == 2:\n",
    "                    names.append(str(f)[22:-4])\n",
    "                    for col in read_cols[1:]:\n",
    "                        csv.rename(columns={col : col + \" \" + str(f)[22:-4]}, inplace=True)\n",
    "                else:\n",
    "                    names.append(str(f)[17:-4])\n",
    "                    for col in read_cols[1:]:\n",
    "                        csv.rename(columns={col : col +  \" \" + str(f)[17:-4]}, inplace=True)\n",
    "                all_data = pd.merge(all_data, csv, on = \"Date\", how = \"outer\")\n",
    "            file_index += 1\n",
    "    all_data[\"Date\"] = pd.to_datetime(all_data[\"Date\"])\n",
    "    \n",
    "    for c in all_data.columns[1:]: # Tidy data\n",
    "        all_data[c] = all_data[c].astype(float)\n",
    "    \n",
    "    all_data.fillna(method=\"pad\", inplace=True) # Replace Missing Value with last day's value\n",
    "    \n",
    "    return all_data, names\n",
    "\n",
    "def clean_data(all_data):\n",
    "    drop_indices = [ind for ind in range(all_data.shape[0]) if (ind + 1) % 7 != 1]\n",
    "    # \"if (ind + 1) % 7 != 1\" 1 here indicates select Monday and drop the others\n",
    "    all_data.drop(drop_indices, inplace=True)\n",
    "    all_data = all_data.reset_index(drop=True)\n",
    "    \n",
    "    # Normalize the data\n",
    "    scaler = MinMaxScaler(feature_range = (-1, 1))\n",
    "    for col in all_data.columns[1:]:\n",
    "        all_data[col] = scaler.fit_transform(all_data[col].values.reshape(-1,1))\n",
    "    return all_data"
   ]
  },
  {
   "cell_type": "code",
   "execution_count": 4,
   "id": "e4b71a13-394c-413b-be6a-b05c80a94504",
   "metadata": {},
   "outputs": [
    {
     "data": {
      "text/plain": [
       "False"
      ]
     },
     "execution_count": 4,
     "metadata": {},
     "output_type": "execute_result"
    }
   ],
   "source": [
    "file_paths = [glob.glob(\"./Dataset/Crypto/*.csv\"), glob.glob(\"./Dataset/Stocks/*.csv\"), glob.glob(\"./Dataset/Commodities/*.csv\")]\n",
    "feature_num = len(READ_COLUMNS) - 1\n",
    "all_data, names = read_data(file_paths, READ_COLUMNS)\n",
    "#all_data.head(all_data.shape[0])\n",
    "\n",
    "all_data = clean_data(all_data)\n",
    "all_data.isnull().values.any() # Returns False if there is no Missing Value\n",
    "#all_data.head(all_data.shape[0])"
   ]
  },
  {
   "cell_type": "markdown",
   "id": "26503738-5f1b-4b9e-a2a9-41e3fd08ea80",
   "metadata": {},
   "source": [
    "## Model"
   ]
  },
  {
   "cell_type": "code",
   "execution_count": 5,
   "id": "183230d6-0a1b-421c-93b1-e657f0b95d27",
   "metadata": {},
   "outputs": [],
   "source": [
    "import torch\n",
    "from torch_geometric.data import Data\n",
    "from torch_geometric.nn import GATConv\n",
    "import torch_geometric.transforms as T\n",
    "import torch.nn.functional as F\n",
    "import torch.nn as nn\n",
    "import matplotlib.pyplot as plt\n",
    "from torch.autograd import Variable"
   ]
  },
  {
   "cell_type": "markdown",
   "id": "e556a1a0-8cd3-4897-8364-c1bceb06161e",
   "metadata": {},
   "source": [
    "### Model Input"
   ]
  },
  {
   "cell_type": "code",
   "execution_count": 6,
   "id": "a5082904-28a6-4735-a2f6-2f8864e46735",
   "metadata": {},
   "outputs": [],
   "source": [
    "def create_input_graph_set(data, nodes_num):\n",
    "    result_graphs = []\n",
    "    edge_list = []\n",
    "    features_num = int((data.shape[1] - 1) // nodes_num)\n",
    "    # connect all nodes with the other and it self\n",
    "    for ei in range(nodes_num):\n",
    "        for ej in range(nodes_num):\n",
    "            edge_list.append([ei, ej])\n",
    "    edge_index = torch.tensor(edge_list, dtype=torch.long)\n",
    "    \n",
    "    for r in range (data.shape[0]):\n",
    "        row = list(data.iloc[r])\n",
    "        features = []\n",
    "        for f in range(int((len(row)-1) / features_num)):\n",
    "            features.append(row[1 + f * features_num : 1 + (f + 1) * features_num])\n",
    "        x = torch.tensor(features, dtype=torch.float)\n",
    "        result_graphs.append(Data(x = x, edge_index = edge_index.t().contiguous()))\n",
    "    return result_graphs"
   ]
  },
  {
   "cell_type": "code",
   "execution_count": 7,
   "id": "a74e5527-b997-4f8f-a624-ca41d17363a2",
   "metadata": {},
   "outputs": [
    {
     "name": "stdout",
     "output_type": "stream",
     "text": [
      "105\n"
     ]
    }
   ],
   "source": [
    "input_graphs = create_input_graph_set(all_data, len(names))\n",
    "data_length = len(input_graphs)\n",
    "print(data_length)"
   ]
  },
  {
   "cell_type": "code",
   "execution_count": 8,
   "id": "a99cf578-aa99-44a6-9c1f-a68665387354",
   "metadata": {},
   "outputs": [],
   "source": [
    "def get_all_y_and_train_y(data, stock_names, training_length, target_id):\n",
    "    all_y = pd.DataFrame()\n",
    "    for n in stock_names:\n",
    "        used_col = str(\"Close \" + n)\n",
    "        all_y[used_col + \" Next not ROI\"] = data[used_col]\n",
    "        #all_y = all_y.pct_change()\n",
    "        #all_y = all_y * 100\n",
    "    all_y.insert(0, \"Date\", data['Date'][1:])\n",
    "    #all_y = all_y.iloc[1:, :]\n",
    "    #all_y = all_y.reset_index(drop=True)\n",
    "    \n",
    "    y = all_y.iloc[training_length : , target_id+1:target_id+2]\n",
    "    return all_y, torch.tensor(y.values).float()"
   ]
  },
  {
   "cell_type": "code",
   "execution_count": 9,
   "id": "401b2413-f77f-43b9-ab32-a249b71f9cde",
   "metadata": {},
   "outputs": [
    {
     "name": "stdout",
     "output_type": "stream",
     "text": [
      "(105, 38)\n",
      "torch.Size([100, 1])\n"
     ]
    }
   ],
   "source": [
    "all_y, y= get_all_y_and_train_y(all_data, names, TRAINING_LENGTH, TARGET_STOCK_ID)\n",
    "#all_y.head(all_y.shape[0])\n",
    "print(all_y.shape)\n",
    "print(y.shape)"
   ]
  },
  {
   "cell_type": "markdown",
   "id": "c13d4114-ef7b-44c3-a4f1-e90d8e6e3058",
   "metadata": {},
   "source": [
    "### Graph Attention Network and Long Short-Term Memory"
   ]
  },
  {
   "cell_type": "code",
   "execution_count": 10,
   "id": "7e66b735-09e9-4691-ae1a-37a5c2f3d5e9",
   "metadata": {},
   "outputs": [],
   "source": [
    "class GATandLSTM(torch.nn.Module):\n",
    "    def __init__(self, graph_num, stock_num, feature_num, target_stock_id, training_length, device):\n",
    "        super(GATandLSTM, self).__init__()\n",
    "        self.device = device\n",
    "        self.training_length = training_length\n",
    "        self.target_id = target_stock_id  # stock id for prediction\n",
    "        self.num_nodes = stock_num\n",
    "        # GAT\n",
    "        self.gat_num = graph_num\n",
    "        self.gat_features = feature_num\n",
    "        self.gat_hid = 32 #8\n",
    "        self.gat_in = 8 \n",
    "        self.gat_out = 1 \n",
    "        \n",
    "        \n",
    "        self.gat_conv1 = GATConv(self.gat_features, self.gat_hid , heads=self.gat_in, dropout=0.05)\n",
    "        self.gat_conv2 = GATConv(self.gat_hid*self.gat_in, self.gat_out, concat=False,\n",
    "                             heads=self.gat_out, dropout=0.05)\n",
    "        #LSTM\n",
    "        self.lstm_features = self.gat_out\n",
    "        self.lstm_hid = 32 #8\n",
    "        self.lstm_seq_len = self.training_length\n",
    "        self.lstm_lay = 2\n",
    "        self.lstm_out = 1\n",
    "        \n",
    "        self.lstm = nn.LSTM(input_size=self.lstm_features, hidden_size=self.lstm_hid, \n",
    "                            num_layers=self.lstm_lay,batch_first = True, dropout=0.05)\n",
    "        self.lin = nn.Linear(self.lstm_hid, self.lstm_out)\n",
    "        \n",
    "    \n",
    "    #def reset_hidden_state(self):\n",
    "        #self.hidden = (\n",
    "            #torch.zeros(self.lstm_lay, self.lstm_seq_len, self.lstm_hid),\n",
    "            #torch.zeros(self.lstm_lay, self.lstm_seq_len, self.lstm_hid)\n",
    "        #)\n",
    "        \n",
    "    \n",
    "    def forward(self, data):\n",
    "        output = []\n",
    "        \n",
    "        # GAT forward\n",
    "        for t in range(self.gat_num):\n",
    "            x, edge_index = data[t].x, data[t].edge_index\n",
    "            x = self.gat_conv1(x, edge_index)\n",
    "            x = F.elu(x)\n",
    "            x = self.gat_conv2(x, edge_index)\n",
    "            if t == 0:\n",
    "                xs_out = x.T\n",
    "            else:\n",
    "                xs_out = torch.cat((xs_out, x.T), 0)\n",
    "        \n",
    "        # LSTM forward\n",
    "        sequences = xs_out.T\n",
    "        time_series = self.split_sequences(sequences, self.training_length, self.target_id)\n",
    "        #print(time_series.shape)\n",
    "        h0 = torch.zeros(self.lstm_lay, time_series.size(0), self.lstm_hid).to(self.device).requires_grad_()\n",
    "        c0 = torch.zeros(self.lstm_lay, time_series.size(0), self.lstm_hid).to(self.device).requires_grad_()\n",
    "            \n",
    "        lstm_out, (hn, cn) = self.lstm(time_series, (h0.detach(), c0.detach()))\n",
    "        #print(lstm_out)\n",
    "        pred = self.lin(lstm_out[:, -1,:])\n",
    "        #print(pred.shape)\n",
    "        return pred\n",
    "\n",
    "    def split_sequences(self, sequences, training_length, target_id):\n",
    "        ts_raw = sequences[target_id].detach().to('cpu').numpy()\n",
    "        ts = []\n",
    "        for i in range(len(ts_raw) - training_length): \n",
    "            ts.append(ts_raw[i : i + training_length])\n",
    "        ts = np.array(ts)\n",
    "        ts = ts.reshape(ts.shape[0],ts.shape[1], 1)\n",
    "        return torch.from_numpy(ts).type(torch.Tensor).to(self.device)"
   ]
  },
  {
   "cell_type": "markdown",
   "id": "414f2815-52f0-405d-8d0d-e1928f2a0be9",
   "metadata": {},
   "source": [
    "### Training"
   ]
  },
  {
   "cell_type": "code",
   "execution_count": 11,
   "id": "570d580f-d8aa-4ac2-b223-08dd5c6daf98",
   "metadata": {},
   "outputs": [],
   "source": [
    "device = torch.device(\"cuda\" if torch.cuda.is_available() else \"cpu\")\n",
    "#device = 'cpu'\n",
    "\n",
    "loss_list = []\n",
    "\n",
    "model = GATandLSTM(data_length, len(names), feature_num, TARGET_STOCK_ID, TRAINING_LENGTH, device).to(device)\n",
    "for graph in input_graphs:\n",
    "    graph = graph.to(device)\n",
    "\n",
    "\n",
    "#optimizer = torch.optim.Adam(model.parameters(), lr=0.005, weight_decay=5e-4)\n",
    "optimizer = torch.optim.Adam(model.parameters(), lr=0.005)\n",
    "#optimizer = torch.optim.SGD(model.parameters(), lr =0.005 )\n",
    "\n",
    "model.train()\n",
    "for epoch in range(200):\n",
    "    model.train()\n",
    "    out = model(input_graphs)\n",
    "    mse_loss = nn.MSELoss(reduction = \"mean\")\n",
    "    loss = mse_loss(out, y.to(device))\n",
    "    loss_list.append(loss.item())\n",
    "    #if epoch % 50 == 0:\n",
    "        #print(loss)\n",
    "\n",
    "    optimizer.zero_grad()\n",
    "    loss.backward()\n",
    "    optimizer.step()\n",
    "    "
   ]
  },
  {
   "cell_type": "code",
   "execution_count": 12,
   "id": "6c16a466-f354-42ca-9544-f2b9504bed10",
   "metadata": {},
   "outputs": [
    {
     "data": {
      "image/png": "[encoded data removed]",
      "text/plain": [
       "<Figure size 432x288 with 1 Axes>"
      ]
     },
     "metadata": {
      "needs_background": "light"
     },
     "output_type": "display_data"
    }
   ],
   "source": [
    "import matplotlib.pyplot as plt\n",
    "plt.plot(loss_list)\n",
    "plt.xlabel(\"Epoch\")\n",
    "plt.ylabel(\"MSE\")\n",
    "plt.title(\"Training Loss of \" +str(names[TARGET_STOCK_ID]))\n",
    "plt.show()"
   ]
  },
  {
   "cell_type": "markdown",
   "id": "3e1107e9-4851-4f1f-ba09-9e66a9d9fd77",
   "metadata": {},
   "source": [
    "#### Ground truth"
   ]
  },
  {
   "cell_type": "code",
   "execution_count": 13,
   "id": "f781285a-47e6-461e-9729-52d6a5f42a44",
   "metadata": {},
   "outputs": [
    {
     "name": "stdout",
     "output_type": "stream",
     "text": [
      "tensor([[-0.7520, -0.7678, -0.7853, -0.8051, -0.8063, -0.8076, -0.8095, -0.8295,\n",
      "         -0.8811, -0.8847, -0.8789, -0.8844, -0.8477, -0.8408, -0.8649, -0.8848,\n",
      "         -0.9241, -0.9174, -0.9158, -0.9321, -0.9165, -0.9191, -0.9005, -0.8876,\n",
      "         -0.8682, -0.8585, -0.8445, -0.8241, -0.8294, -0.8312, -0.8582, -0.8942,\n",
      "         -1.0000, -0.9475, -0.9502, -0.9161, -0.9340, -0.9344, -0.8999, -0.8598,\n",
      "         -0.8711, -0.8284, -0.8588, -0.8114, -0.8266, -0.8396, -0.8301, -0.8481,\n",
      "         -0.8426, -0.8463, -0.8493, -0.7811, -0.7742, -0.7496, -0.7355, -0.7549,\n",
      "         -0.7585, -0.8051, -0.7942, -0.8035, -0.7933, -0.7898, -0.7629, -0.7548,\n",
      "         -0.7073, -0.6892, -0.6243, -0.5738, -0.5134, -0.4650, -0.4843, -0.4804,\n",
      "         -0.3547, -0.1957, -0.0166,  0.1080,  0.1527, -0.0069,  0.0395,  0.5081,\n",
      "          0.5642,  0.7895,  0.6253,  0.7270,  0.8448,  0.7893,  0.9189,  0.9734,\n",
      "          1.0000,  0.8458,  0.7863,  0.9019,  0.8525,  0.4046,  0.2317,  0.1754,\n",
      "          0.0404,  0.2944, -0.0305,  0.0748]])\n"
     ]
    }
   ],
   "source": [
    "print(y.T)"
   ]
  },
  {
   "cell_type": "markdown",
   "id": "9abdb9dd-652c-4fff-8a75-640b75876217",
   "metadata": {},
   "source": [
    "#### Model Prediction"
   ]
  },
  {
   "cell_type": "code",
   "execution_count": 14,
   "id": "f8e6e049-2f5b-4039-9685-08a17594878b",
   "metadata": {},
   "outputs": [
    {
     "name": "stdout",
     "output_type": "stream",
     "text": [
      "tensor([[-0.8164, -0.8064, -0.8274, -0.8342, -0.8151, -0.8501, -0.8437, -0.8305,\n",
      "         -0.8371, -0.8436, -0.8485, -0.8430, -0.8422, -0.8299, -0.8458, -0.8440,\n",
      "         -0.8186, -0.8265, -0.8286, -0.7993, -0.8279, -0.8150, -0.7916, -0.7553,\n",
      "         -0.6941, -0.7283, -0.6490, -0.7370, -0.6372, -0.7487, -0.7972, -0.7427,\n",
      "         -0.7266, -0.8336, -0.8502, -0.8549, -0.8362, -0.8408, -0.8527, -0.8538,\n",
      "         -0.8523, -0.8484, -0.8462, -0.8386, -0.8481, -0.8472, -0.8202, -0.8460,\n",
      "         -0.8562, -0.8433, -0.8486, -0.8459, -0.8379, -0.8446, -0.8450, -0.8467,\n",
      "         -0.8450, -0.8123, -0.8236, -0.8196, -0.7658, -0.7886, -0.8411, -0.8306,\n",
      "         -0.8362, -0.8274, -0.7975, -0.7575, -0.7947, -0.8204, -0.8133, -0.6002,\n",
      "         -0.5360, -0.4486, -0.1124,  0.0471,  0.0042,  0.0207,  0.2570,  0.3834,\n",
      "          0.5061,  0.5943,  0.6149,  0.6239,  0.9033,  0.9133,  0.9009,  0.9106,\n",
      "          0.8900,  0.7508,  0.8250,  0.7776,  0.5023,  0.2457,  0.2710,  0.1988,\n",
      "          0.0525,  0.0725,  0.2627,  0.5042]], device='cuda:0',\n",
      "       grad_fn=<PermuteBackward>)\n"
     ]
    }
   ],
   "source": [
    "m = model(input_graphs)\n",
    "print(m.T)"
   ]
  },
  {
   "cell_type": "markdown",
   "id": "5fcb2030-0446-462a-8b05-12cc3a92dd7e",
   "metadata": {},
   "source": [
    "### Pred vs Ground Truth"
   ]
  },
  {
   "cell_type": "code",
   "execution_count": 15,
   "id": "aaa4d3a9-255d-4cba-ab4c-fb1265ea0e42",
   "metadata": {},
   "outputs": [
    {
     "data": {
      "image/png": "[encoded data removed]",
      "text/plain": [
       "<Figure size 432x288 with 1 Axes>"
      ]
     },
     "metadata": {
      "needs_background": "light"
     },
     "output_type": "display_data"
    }
   ],
   "source": [
    "plt.plot(y.T.numpy().reshape(y.shape[0])) # blue line is Ground Truth\n",
    "plt.plot(m.T.detach().to('cpu').numpy().reshape(y.shape[0])) # orange line is model prediction\n",
    "plt.xlabel(\"Timestamp\")\n",
    "plt.ylabel(\"Normalized Price\")\n",
    "plt.title(names[TARGET_STOCK_ID])\n",
    "plt.show()"
   ]
  },
  {
   "cell_type": "code",
   "execution_count": 16,
   "id": "fe939003-4211-49c9-84bc-924d46aef797",
   "metadata": {},
   "outputs": [
    {
     "name": "stdout",
     "output_type": "stream",
     "text": [
      "0.015922555699944496\n"
     ]
    }
   ],
   "source": [
    "print(loss.item())"
   ]
  },
  {
   "cell_type": "code",
   "execution_count": 17,
   "id": "b58a5e59-4f52-43e0-9a51-297f353f17ff",
   "metadata": {},
   "outputs": [],
   "source": [
    "# Different LSTM for different type of data\n",
    "# Transform input feature e.g. MLP\n",
    "# Visualize attention weights distinguishable between two timestamp\n",
    "# Baseline only LSTM"
   ]
  }
 ],
 "metadata": {
  "kernelspec": {
   "display_name": "Python 3 (ipykernel)",
   "language": "python",
   "name": "python3"
  },
  "language_info": {
   "codemirror_mode": {
    "name": "ipython",
    "version": 3
   },
   "file_extension": ".py",
   "mimetype": "text/x-python",
   "name": "python",
   "nbconvert_exporter": "python",
   "pygments_lexer": "ipython3",
   "version": "3.9.6"
  }
 },
 "nbformat": 4,
 "nbformat_minor": 5
}
